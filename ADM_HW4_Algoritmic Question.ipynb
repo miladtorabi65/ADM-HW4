{
 "cells": [
  {
   "cell_type": "markdown",
   "id": "cc149180",
   "metadata": {},
   "source": [
    "### a)Fortunately, you have a computer app designed by a brilliant student. Federico wants you to show him the code which this app is based on because he wants to do paid counseling for other desperate students: in a recursive fashion, the helped helps the helpable."
   ]
  },
  {
   "cell_type": "code",
   "execution_count": 5,
   "id": "4353922b",
   "metadata": {},
   "outputs": [
    {
     "name": "stdout",
     "output_type": "stream",
     "text": [
      "Initial personal score: 30\n",
      "Mark: 13 27 41 59 28 33 39 19 52 48 55 79\n",
      "The highest reachable number: 205\n"
     ]
    }
   ],
   "source": [
    "s = int(input(\"Initial personal score: \"))\n",
    "list_p = list(map(int, input(\"Marks: \").split()))\n",
    "\n",
    "def f(s, list_p, index=1):\n",
    "    if len(list_p) == 1:\n",
    "        return list_p[0]\n",
    "\n",
    "    max_list_p = max(list_p)\n",
    "    min_list_p = min(list_p)\n",
    "\n",
    "    if index == 1:\n",
    "        check=len(list_p)\n",
    "        if check%2==0:\n",
    "            index=index+1\n",
    "\n",
    "    if index % 2 != 0:\n",
    "        new_s = max_list_p\n",
    "        x = new_s - s\n",
    "        list_p.sort(reverse=True)\n",
    "        new_list_p = [num - x for num in list_p[1:]]\n",
    "        return f(new_s, new_list_p, index + 1)\n",
    "\n",
    "    if index % 2 == 0:\n",
    "        new_s = min_list_p\n",
    "        x = s - new_s\n",
    "        list_p.sort()\n",
    "        new_list_p = [num + x for num in list_p[1:]]\n",
    "        return f(new_s, new_list_p, index + 1)\n",
    "\n",
    "result = f(s, list_p)\n",
    "print(\"The highest reachable number:\", result)"
   ]
  },
  {
   "cell_type": "markdown",
   "id": "c45252cc",
   "metadata": {},
   "source": [
    "### b) Federico is getting angry because he claims that your code is slow! Show him formally with a big-O notation that he is as crazy as this university!"
   ]
  },
  {
   "cell_type": "markdown",
   "id": "19145931",
   "metadata": {},
   "source": [
    "For each recursive call, the sorting operation has a time complexity of O(n log n), and the arithmetic operation has a time complexity of O(n).The depth of the recursion is log(n). Therefore, the overall time complexity of the algorithm can be expressed as O(log(n) * (n log n + n)). In big-O notation, the dominant term is the sorting operation, so the time complexity can be simplified to O(log(n) * n log n) which is the worst-case scenario of my algorithm.. "
   ]
  },
  {
   "cell_type": "markdown",
   "id": "f8869232",
   "metadata": {},
   "source": [
    "### c) If, unfortunately, Federico is right in the grip of madness, he will threaten you to optimize the code through a different approach. You should end this theater of the absurd by any means! (And again, formally prove that you improved time complexity)"
   ]
  },
  {
   "cell_type": "markdown",
   "id": "ae704d26",
   "metadata": {},
   "source": [
    "in the previous algorithm, I used list_p.sort() and list_p.sort(reverse=True) for sorting, which has a time complexity of O(n log n) in the worst case. In the optimized algorithm, I used list_p.remove() instead of list_p.sort(), which has a time complexity of O(n) in the worst case. Removing an element from a list is generally faster than sorting the entire list.For each recursive call, the dominant factor is the removal of elements and the subsequent iteration through the list. The depth of the recursion is log(n), where n is the length of the original list. Therefore, the overall time complexity of my algorithm is approximately O(n log n).By replacing the sorting operations with the removal operation, I have reduced the time complexity of the algorithm. The removal operation has a lower time complexity than sorting, especially when dealing with larger lists."
   ]
  },
  {
   "cell_type": "code",
   "execution_count": 24,
   "id": "bf43b10c",
   "metadata": {},
   "outputs": [
    {
     "name": "stdout",
     "output_type": "stream",
     "text": [
      "Initial personal score: 25\n",
      "Marks: 18 24 21 32 27\n",
      "The highest reachable number: 44\n"
     ]
    }
   ],
   "source": [
    "s = int(input(\"Initial personal score: \"))\n",
    "list_p = list(map(int, input(\"Marks: \").split()))\n",
    "\n",
    "def f(s, list_p, index=1):\n",
    "    if len(list_p) == 1:\n",
    "        return list_p[0]\n",
    "\n",
    "    max_list_p = max(list_p)\n",
    "    min_list_p = min(list_p)\n",
    "\n",
    "    if index == 1 and len(list_p)%2==0:\n",
    "            index+=1\n",
    "\n",
    "    if index % 2 != 0:\n",
    "        new_s = max_list_p\n",
    "        x = new_s - s\n",
    "        list_p.remove(new_s)\n",
    "        new_list_p = [num - x for num in list_p]\n",
    "\n",
    "    else:\n",
    "        new_s = min_list_p\n",
    "        x = s - new_s\n",
    "        list_p.remove(new_s)\n",
    "        new_list_p = [num + x for num in list_p]\n",
    "        \n",
    "    return f(new_s, new_list_p, index + 1)\n",
    "\n",
    "result = f(s, list_p)\n",
    "print(\"The highest reachable number:\", result)"
   ]
  },
  {
   "cell_type": "markdown",
   "id": "695fca76",
   "metadata": {},
   "source": [
    "### d) Ask chatGPT for a third (optimized) implementation and analyze again its time complexity. Be careful (and crafty) in defining the prompt, and challenge the machine in this coding question!"
   ]
  },
  {
   "cell_type": "markdown",
   "id": "72344eb7",
   "metadata": {},
   "source": [
    "I asked ChatGPT for final optimization, and it suggested that I eliminate the .remove() function to minimize the time complexity of my code. Instead, in the list comprehension, I need to provide an if statement to exclude the element that we want to delete. Therefore, as can be seen, by doing so, the time complexity of my algorithm will be O(n log n). The dominant factor in each recursive call is the list comprehension, which has a time complexity of O(n). The depth of the recursion is log(n), where n is the length of the original list. Therefore, the overall time complexity of my algorithm is approximately O(n log n). The dominant factor is the list comprehension within the recursion, and the rest of the operations contribute to the overall complexity."
   ]
  },
  {
   "cell_type": "code",
   "execution_count": 30,
   "id": "d16f8835",
   "metadata": {},
   "outputs": [
    {
     "name": "stdout",
     "output_type": "stream",
     "text": [
      "Initial personal score: 30\n",
      "Marks: 13 27 41 59 28 33 39 19 52 48 55 79\n",
      "The highest reachable number: 205\n"
     ]
    }
   ],
   "source": [
    "s = int(input(\"Initial personal score: \"))\n",
    "list_p = list(map(int, input(\"Marks: \").split()))\n",
    "\n",
    "def f(s, list_p, index=1):\n",
    "    if len(list_p) == 1:\n",
    "        return list_p[0]\n",
    "\n",
    "    max_index = list_p.index(max(list_p))\n",
    "    min_index = list_p.index(min(list_p))\n",
    "\n",
    "    if index == 1 and len(list_p) % 2 == 0:\n",
    "        index += 1\n",
    "\n",
    "    if index % 2 != 0:\n",
    "        new_s = max(list_p)\n",
    "        x = new_s - s\n",
    "        new_list_p = [num - x for i, num in enumerate(list_p) if i != max_index]\n",
    "    else:\n",
    "        new_s = min(list_p)\n",
    "        x = s - new_s\n",
    "        new_list_p = [num + x for i, num in enumerate(list_p) if i != min_index]\n",
    "\n",
    "    return f(new_s, new_list_p, index + 1)\n",
    "\n",
    "result = f(s, list_p)\n",
    "print(\"The highest reachable number:\", result)"
   ]
  }
 ],
 "metadata": {
  "kernelspec": {
   "display_name": "Python 3 (ipykernel)",
   "language": "python",
   "name": "python3"
  },
  "language_info": {
   "codemirror_mode": {
    "name": "ipython",
    "version": 3
   },
   "file_extension": ".py",
   "mimetype": "text/x-python",
   "name": "python",
   "nbconvert_exporter": "python",
   "pygments_lexer": "ipython3",
   "version": "3.11.4"
  }
 },
 "nbformat": 4,
 "nbformat_minor": 5
}
